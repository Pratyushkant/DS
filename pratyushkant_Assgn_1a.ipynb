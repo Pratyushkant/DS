{
  "cells": [
    {
      "cell_type": "markdown",
      "metadata": {
        "id": "dZ0_pb94DLbS"
      },
      "source": [
        "# UMC 301: Applied Data Science and Artificial Intelligence\n",
        "## Assignment 1a\n",
        "\n",
        "### Submission instructions:\n",
        "\n",
        "\n",
        "1.   The assignment is to be submitted in ONE single notebook.\n",
        "2.   Submit the .ipynb file and pdf of the same with all cells open through this Teams Assignment.\n",
        "3. If your IISc email ID is < username > @iisc.ac.in, then name the file < username >_Assgn_1a. E.g. jonathan_Assgn_1a for email ID jonathan@iisc.ac.in.\n",
        "4. Before submission, execute the ’Restart session and run all’ option from the Runtime/Kernel tab. Verify that there are no errors and that you are getting the output you expect.\n",
        "5. Use the dataset **'SeoulBikeData.csv'**: https://www.dropbox.com/scl/fi/tofrz23mx38tbsrtar1lx/SeoulBikeData.csv?rlkey=zlvra2py146p5lrynxnzijc1p&dl=1\n",
        "6. Use significance level $\\alpha = 0.05$ for all questions.\n",
        "7. Calculate the hypothesis test statistics (stat_value, p_value, dof etc.) using equations and validate using the inbuit python functions."
      ]
    },
    {
      "cell_type": "markdown",
      "metadata": {
        "id": "8M-ClByVDZiG"
      },
      "source": [
        "# Question 1\n",
        "Test if the mean of hourly bike rentals reduces if \"Snowfall\" is non zero in winter season. Use entire winter data from 'SeoulBikeData.csv'. Choose appropriate hypothesis test."
      ]
    },
    {
      "cell_type": "code",
      "execution_count": null,
      "metadata": {
        "id": "78LHx-EVYoTS"
      },
      "outputs": [],
      "source": [
        "# Data is loaded\n",
        "\n",
        "import pandas as pd\n",
        "import numpy as np\n",
        "import requests\n",
        "from scipy import stats\n",
        "import math\n",
        "import scipy.stats as stats\n",
        "from decimal import Decimal, getcontext\n",
        "import matplotlib.pyplot as plt\n",
        "\n",
        "# Url of the data\n",
        "\n",
        "url = 'https://www.dropbox.com/scl/fi/tofrz23mx38tbsrtar1lx/SeoulBikeData.csv?rlkey=zlvra2py146p5lrynxnzijc1p&dl=1'\n",
        "\n",
        "# The csv file is directly read from the url\n",
        "\n",
        "df = pd.read_csv(url)"
      ]
    },
    {
      "cell_type": "markdown",
      "metadata": {
        "id": "S2Q9xVP2YoTS"
      },
      "source": [
        "$$H_0: \\mu_1 = \\mu_2$$\n",
        "$$H_1: \\mu_1 \\neq \\mu_2$$"
      ]
    },
    {
      "cell_type": "code",
      "execution_count": null,
      "metadata": {
        "id": "0EF6FgtCYoTS"
      },
      "outputs": [],
      "source": [
        "# Every row where season is not winter is dropped now\n",
        "\n",
        "df_1 = df[df['Seasons'] == 'Winter']\n",
        "df_1 = df_1[df_1['Functioning Day'] == 'Yes']"
      ]
    },
    {
      "cell_type": "code",
      "execution_count": null,
      "metadata": {
        "id": "r-_ZXH6IYoTT",
        "outputId": "65994221-5b2a-49bf-bf4a-4c2494ab1583",
        "colab": {
          "base_uri": "https://localhost:8080/"
        }
      },
      "outputs": [
        {
          "output_type": "stream",
          "name": "stdout",
          "text": [
            "n_1 = 1768\n",
            "mu_1 = 240.670814479638\n",
            "sigma_1 = 154.0299995292062\n",
            "n_2 = 392\n",
            "mu_2 = 157.30357142857142\n",
            "sigma_2 = 109.24517669770852\n"
          ]
        }
      ],
      "source": [
        "# n_1 is the number of observations in the dataset with snowfall = 0\n",
        "# mu_1 is the mean of the 'Rented Bike Count' column for the observations with snowfall = 0\n",
        "# sigma_1 is the standard deviation of the 'Rented Bike Count' column for the observations with snowfall = 0\n",
        "# n_2 is the number of observations in the dataset with snowfall \\neq 0\n",
        "# mu_2 is the mean of the 'Rented Bike Count' column for the observations with snowfall \\neq 0\n",
        "# sigma_2 is the standard deviation of the 'Rented Bike Count' column for the observations with snowfall \\neq 0\n",
        "\n",
        "n_1 = df_1[df_1['Snowfall (cm)'] == 0.0].shape[0]\n",
        "mu_1 = df_1[df_1['Snowfall (cm)'] == 0.0]['Rented Bike Count'].mean()\n",
        "sigma_1 = df_1[df_1['Snowfall (cm)'] == 0.0]['Rented Bike Count'].std()\n",
        "\n",
        "\n",
        "n_2 = df_1[df_1['Snowfall (cm)'] != 0.0].shape[0]\n",
        "mu_2 = df_1[df_1['Snowfall (cm)'] != 0.0]['Rented Bike Count'].mean()\n",
        "sigma_2 = df_1[df_1['Snowfall (cm)'] != 0.0]['Rented Bike Count'].std()\n",
        "\n",
        "# Print the results\n",
        "\n",
        "print('n_1 =', n_1)\n",
        "print('mu_1 =', mu_1)\n",
        "print('sigma_1 =', sigma_1)\n",
        "print('n_2 =', n_2)\n",
        "print('mu_2 =', mu_2)\n",
        "print('sigma_2 =', sigma_2)"
      ]
    },
    {
      "cell_type": "code",
      "execution_count": null,
      "metadata": {
        "id": "fGA7RJWsYoTT"
      },
      "outputs": [],
      "source": [
        "# Significance level\n",
        "\n",
        "alpha = 0.05\n",
        "\n",
        "# Set precision for decimal calculations\n",
        "getcontext().prec = 10"
      ]
    },
    {
      "cell_type": "markdown",
      "metadata": {
        "id": "cxx3JAi_YoTT"
      },
      "source": [
        "## Manual z-test and t-test"
      ]
    },
    {
      "cell_type": "code",
      "execution_count": null,
      "metadata": {
        "id": "yl2EEX2iYoTT"
      },
      "outputs": [],
      "source": [
        "def z_test(mu_1, sigma_1, n_1, mu_2, sigma_2, n_2, alpha=0.05):\n",
        "    sample_mean_diff = mu_2 - mu_1\n",
        "    standard_error = math.sqrt((sigma_1**2 / n_1) + (sigma_2**2 / n_2))\n",
        "    z_statistic = sample_mean_diff / standard_error\n",
        "\n",
        "    # p-value using the complementary error function\n",
        "    p_value = math.erfc(abs(z_statistic) / math.sqrt(2))\n",
        "\n",
        "\n",
        "    print(f\"Null hypothesis {'rejected' if p_value < alpha else 'failed to be rejected'} at α = {alpha}\")\n",
        "\n",
        "    return z_statistic, p_value, p_value < alpha"
      ]
    },
    {
      "cell_type": "code",
      "execution_count": null,
      "metadata": {
        "id": "pKvVqOk3YoTU"
      },
      "outputs": [],
      "source": [
        "def t_test(mu_1, sigma_1, n_1, mu_2, sigma_2, n_2, alpha):\n",
        "    sample_mean_diff = mu_2 - mu_1\n",
        "    var_1 = sigma_1**2\n",
        "    var_2 = sigma_2**2\n",
        "    pooled_se = np.sqrt(var_1/n_1 + var_2/n_2)\n",
        "\n",
        "    t_statistic = sample_mean_diff / pooled_se\n",
        "\n",
        "    df = (var_1/n_1 + var_2/n_2)**2 / ((var_1/n_1)**2/(n_1-1) + (var_2/n_2)**2/(n_2-1))\n",
        "    p_value = stats.t.sf(np.abs(t_statistic), df) * 2\n",
        "\n",
        "    print(f\"Null hypothesis {'rejected' if p_value < alpha else 'failed to be rejected'} at α = {alpha}\")\n",
        "\n",
        "    return t_statistic, p_value, p_value < alpha"
      ]
    },
    {
      "cell_type": "code",
      "execution_count": null,
      "metadata": {
        "id": "1bzFDr4JYoTU",
        "outputId": "70eb41ff-ce8b-4df3-828b-a196d4581068",
        "colab": {
          "base_uri": "https://localhost:8080/"
        }
      },
      "outputs": [
        {
          "output_type": "stream",
          "name": "stdout",
          "text": [
            "Null hypothesis rejected at α = 0.05\n"
          ]
        },
        {
          "output_type": "execute_result",
          "data": {
            "text/plain": [
              "(-12.587491780039079, 2.4741057258548217e-36, True)"
            ]
          },
          "metadata": {},
          "execution_count": 7
        }
      ],
      "source": [
        "# z-test is performed\n",
        "\n",
        "z_test(mu_1, sigma_1, n_1, mu_2, sigma_2, n_2, alpha)"
      ]
    },
    {
      "cell_type": "code",
      "execution_count": null,
      "metadata": {
        "id": "A42nYboNYoTU",
        "outputId": "c723e5a7-f698-4589-8564-c0acd11eb69d",
        "colab": {
          "base_uri": "https://localhost:8080/"
        }
      },
      "outputs": [
        {
          "output_type": "stream",
          "name": "stdout",
          "text": [
            "Null hypothesis rejected at α = 0.05\n"
          ]
        },
        {
          "output_type": "execute_result",
          "data": {
            "text/plain": [
              "(-12.587491780039079, 3.335926423244896e-33, True)"
            ]
          },
          "metadata": {},
          "execution_count": 8
        }
      ],
      "source": [
        "# t-test is performed\n",
        "\n",
        "t_test(mu_1, sigma_1, n_1, mu_2, sigma_2, n_2, alpha)"
      ]
    },
    {
      "cell_type": "markdown",
      "metadata": {
        "id": "qid3YRwnYoTU"
      },
      "source": [
        "## Inbuilt z-test and t-test"
      ]
    },
    {
      "cell_type": "code",
      "execution_count": null,
      "metadata": {
        "id": "xjkHghRAYoTV",
        "outputId": "666a7643-7983-4998-aa17-0b4837a3d40b",
        "colab": {
          "base_uri": "https://localhost:8080/"
        }
      },
      "outputs": [
        {
          "output_type": "stream",
          "name": "stdout",
          "text": [
            "Z-statistic: 22.7579\n",
            "P-value: 0.00000\n",
            "Null hypothesis rejected at α = 0.05\n"
          ]
        },
        {
          "output_type": "execute_result",
          "data": {
            "text/plain": [
              "(22.757851325269545, 0.0, True)"
            ]
          },
          "metadata": {},
          "execution_count": 9
        }
      ],
      "source": [
        "def one_sample_z_test(sample_mean, population_mean, population_std, sample_size, alpha=0.05):\n",
        "    # Calculate the standard error of the mean\n",
        "    standard_error = population_std / np.sqrt(sample_size)\n",
        "\n",
        "    # Calculate the z-statistic\n",
        "    z_statistic = (sample_mean - population_mean) / standard_error\n",
        "\n",
        "    # Calculate the p-value from the z-statistic\n",
        "    p_value = 2 * (1 - stats.norm.cdf(np.abs(z_statistic)))\n",
        "\n",
        "    # Output results\n",
        "    print(f\"Z-statistic: {z_statistic:.4f}\")\n",
        "    print(f\"P-value: {p_value:.5f}\")\n",
        "    print(f\"Null hypothesis {'rejected' if p_value < alpha else 'failed to be rejected'} at α = {alpha}\")\n",
        "\n",
        "    return z_statistic, p_value, p_value < alpha\n",
        "\n",
        "# One sample z-test is performed\n",
        "\n",
        "one_sample_z_test(mu_1, mu_2, sigma_1, n_1, alpha)"
      ]
    },
    {
      "cell_type": "code",
      "execution_count": null,
      "metadata": {
        "id": "Gi_6NAz8YoTV",
        "outputId": "c04222c4-c91d-4bf8-dc2f-629761782db7",
        "colab": {
          "base_uri": "https://localhost:8080/"
        }
      },
      "outputs": [
        {
          "output_type": "stream",
          "name": "stdout",
          "text": [
            "Null hypothesis rejected at α = 0.05\n",
            "t-statistic: -12.5875\n",
            "P-value: 0.00000\n",
            "Null hypothesis rejected at α = 0.05\n"
          ]
        }
      ],
      "source": [
        "t_statistic, p_value, reject_null = t_test(mu_1, sigma_1, n_1, mu_2, sigma_2, n_2, alpha)\n",
        "\n",
        "print(f\"t-statistic: {t_statistic:.4f}\")\n",
        "print(f\"P-value: {p_value:.5f}\")\n",
        "print(f\"Null hypothesis {'rejected' if reject_null else 'failed to be rejected'} at α = {alpha}\")"
      ]
    },
    {
      "cell_type": "markdown",
      "metadata": {
        "id": "sBEnJOO_DkW0"
      },
      "source": [
        "# Question 2\n",
        "Visualize the hourly non-zero rainfall distribution and identify four quartiles. Test if the mean hourly count of bike rentals in the four quartiles are different using 1 way ANOVA test."
      ]
    },
    {
      "cell_type": "code",
      "execution_count": null,
      "metadata": {
        "id": "biq-8K-QYoTV"
      },
      "outputs": [],
      "source": [
        "df_2 = df[df['Rainfall(mm)'] != 0.0]\n",
        "df_2 = df_2[df_2['Functioning Day'] == 'Yes']"
      ]
    },
    {
      "cell_type": "code",
      "execution_count": null,
      "metadata": {
        "id": "DljCdVYJYoTV"
      },
      "outputs": [],
      "source": [
        "from mpl_toolkits.mplot3d import Axes3D"
      ]
    },
    {
      "cell_type": "code",
      "execution_count": null,
      "metadata": {
        "id": "NfnK4L-ZYoTV",
        "outputId": "11139714-9bb5-47ef-a55a-29dc8c71df2c",
        "colab": {
          "base_uri": "https://localhost:8080/",
          "height": 722
        }
      },
      "outputs": [
        {
          "output_type": "display_data",
          "data": {
            "text/plain": [
              "<Figure size 1200x800 with 1 Axes>"
            ],
            "image/png": "[encoded data removed]"
          },
          "metadata": {}
        }
      ],
      "source": [
        "# hourly total rented bike count count in df_2 are plotted\n",
        "\n",
        "plt = df_2.groupby('Hour')['Rented Bike Count'].sum().plot(kind='bar', title='Hourly total rented bike count', figsize=(12, 8))"
      ]
    },
    {
      "cell_type": "code",
      "execution_count": null,
      "metadata": {
        "id": "Ry8q3VxkYoTV",
        "outputId": "5fc2d9a7-3891-4984-a64c-786416276df2",
        "colab": {
          "base_uri": "https://localhost:8080/"
        }
      },
      "outputs": [
        {
          "output_type": "stream",
          "name": "stdout",
          "text": [
            "0.25     0.5\n",
            "0.50     1.0\n",
            "0.75     2.5\n",
            "1.00    35.0\n",
            "Name: Rainfall(mm), dtype: float64\n"
          ]
        }
      ],
      "source": [
        "# four quartiles of the Rainfall(mm) column in df_2\n",
        "\n",
        "quartiles = df_2['Rainfall(mm)'].quantile([0.25, 0.5, 0.75, 1])\n",
        "print(quartiles)\n",
        "\n",
        "# The data is partitioned into four groups based on the quartiles of the Rainfall(mm) column\n",
        "\n",
        "grp_1 = df_2[df_2['Rainfall(mm)'] <= quartiles[0.25]]\n",
        "grp_2 = df_2[(df_2['Rainfall(mm)'] > quartiles[0.25]) & (df_2['Rainfall(mm)'] <= quartiles[0.5])]\n",
        "grp_3 = df_2[(df_2['Rainfall(mm)'] > quartiles[0.5]) & (df_2['Rainfall(mm)'] <= quartiles[0.75])]\n",
        "grp_4 = df_2[df_2['Rainfall(mm)'] > quartiles[0.75]]"
      ]
    },
    {
      "cell_type": "markdown",
      "metadata": {
        "id": "idCS--RkYoTW"
      },
      "source": [
        "## Inbuilt ANOVA test"
      ]
    },
    {
      "cell_type": "code",
      "execution_count": null,
      "metadata": {
        "id": "m3ot8F21YoTW",
        "outputId": "686d3cfa-f5b0-46a8-99ce-59438d1b0bb7",
        "colab": {
          "base_uri": "https://localhost:8080/"
        }
      },
      "outputs": [
        {
          "output_type": "stream",
          "name": "stdout",
          "text": [
            "12.725206168514127 4.9378625332842514e-08\n",
            "Null hypothesis rejected at α = 0.05\n"
          ]
        }
      ],
      "source": [
        "# ANOVA test\n",
        "\n",
        "f_statistic, p_value = stats.f_oneway(grp_1['Rented Bike Count'], grp_2['Rented Bike Count'], grp_3['Rented Bike Count'], grp_4['Rented Bike Count'])\n",
        "\n",
        "print(f_statistic, p_value)\n",
        "\n",
        "print(f\"Null hypothesis {'rejected' if p_value < alpha else 'failed to be rejected'} at α = {alpha}\")"
      ]
    },
    {
      "cell_type": "markdown",
      "metadata": {
        "id": "D3vXX4H_YoTW"
      },
      "source": [
        "## Manual ANOVA Test"
      ]
    },
    {
      "cell_type": "code",
      "execution_count": null,
      "metadata": {
        "id": "nIbGA-vhYoTW",
        "outputId": "3e49a55f-5da4-41d2-b126-ac53de0506cf",
        "colab": {
          "base_uri": "https://localhost:8080/"
        }
      },
      "outputs": [
        {
          "output_type": "stream",
          "name": "stdout",
          "text": [
            "12.725206168514129 4.937862529974524e-08\n",
            "Null hypothesis rejected at α = 0.05\n"
          ]
        }
      ],
      "source": [
        "# The means for the four groups are calculated\n",
        "\n",
        "mean_grp_1 = grp_1['Rented Bike Count'].mean()\n",
        "mean_grp_2 = grp_2['Rented Bike Count'].mean()\n",
        "mean_grp_3 = grp_3['Rented Bike Count'].mean()\n",
        "mean_grp_4 = grp_4['Rented Bike Count'].mean()\n",
        "\n",
        "mean = df_2['Rented Bike Count'].mean()\n",
        "\n",
        "n_1 = grp_1.shape[0]\n",
        "n_2 = grp_2.shape[0]\n",
        "n_3 = grp_3.shape[0]\n",
        "n_4 = grp_4.shape[0]\n",
        "\n",
        "# SSW (Sum of Squares Within) is calculated\n",
        "\n",
        "ssw = ((grp_1['Rented Bike Count'] - mean_grp_1)**2).sum() + ((grp_2['Rented Bike Count'] - mean_grp_2)**2).sum() + ((grp_3['Rented Bike Count'] - mean_grp_3)**2).sum() + ((grp_4['Rented Bike Count'] - mean_grp_4)**2).sum()\n",
        "\n",
        "# DOFs (Degrees of Freedom) for the SSW\n",
        "\n",
        "dof_ssw = n_1 + n_2 + n_3 + n_4 - 4\n",
        "\n",
        "# Mean Squares Within is calculated\n",
        "\n",
        "msw = ssw / dof_ssw\n",
        "\n",
        "# SSB (Sum of Squares Between) is calculated\n",
        "\n",
        "ssb = n_1 * (mean_grp_1 - mean)**2 + n_2 * (mean_grp_2 - mean)**2 + n_3 * (mean_grp_3 - mean)**2 + n_4 * (mean_grp_4 - mean)**2\n",
        "\n",
        "# DOFs (Degrees of Freedom) for the SSB\n",
        "\n",
        "dof_ssb = 4 - 1\n",
        "\n",
        "# Mean Squares Between is calculated\n",
        "\n",
        "msb = ssb / dof_ssb\n",
        "\n",
        "# F-statistic is calculated\n",
        "\n",
        "f_statistic = msb / msw\n",
        "\n",
        "# p-value is calculated\n",
        "\n",
        "p_value = 1 - stats.f.cdf(f_statistic, dof_ssb, dof_ssw)\n",
        "\n",
        "print(f_statistic, p_value)\n",
        "\n",
        "print(f\"Null hypothesis {'rejected' if p_value < alpha else 'failed to be rejected'} at α = {alpha}\")"
      ]
    },
    {
      "cell_type": "markdown",
      "metadata": {
        "id": "fZUtrgSqDoLL"
      },
      "source": [
        "# Question 3\n",
        "Visualize the average hourly bike rentals in Summer Season and Spring Season. Identify if the two distributions are different using Chi-squared test."
      ]
    },
    {
      "cell_type": "code",
      "execution_count": null,
      "metadata": {
        "id": "c_VBd8eWYoTW",
        "outputId": "60c9c448-0d99-4d19-97d4-3c51f8a9c1ad",
        "colab": {
          "base_uri": "https://localhost:8080/",
          "height": 722
        }
      },
      "outputs": [
        {
          "output_type": "display_data",
          "data": {
            "text/plain": [
              "<Figure size 1200x800 with 1 Axes>"
            ],
            "image/png": "[encoded data removed]"
          },
          "metadata": {}
        }
      ],
      "source": [
        "# Data for which 'Seasons' take the values 'Summer' or 'Spring'\n",
        "\n",
        "df_3 = df[(df['Seasons'] == 'Summer') | (df['Seasons'] == 'Spring')]\n",
        "\n",
        "# Average 'Rented Bike Count' for each 'Seasons' for each 'Hour' in df_3\n",
        "\n",
        "plt = df_3.groupby(['Hour', 'Seasons'])['Rented Bike Count'].mean().unstack().plot(kind='bar', title='Average Rented Bike Count for each Seasons for each Hour', color=['red', 'green'], figsize=(12, 8))"
      ]
    },
    {
      "cell_type": "markdown",
      "metadata": {
        "id": "194h0683YoTW"
      },
      "source": [
        "## Manual Chi-squared test"
      ]
    },
    {
      "cell_type": "code",
      "execution_count": null,
      "metadata": {
        "id": "ASsgl9HZYoTW",
        "outputId": "80fe3ba5-ffa0-4ac6-925e-43eb3cc52078",
        "colab": {
          "base_uri": "https://localhost:8080/"
        }
      },
      "outputs": [
        {
          "output_type": "stream",
          "name": "stdout",
          "text": [
            "Chi-squared Statistic: 529.860\n",
            "Degrees of Freedom: 23\n",
            "P-value: 0.00000\n",
            "There is a statistically significant difference between the hourly distributions of 'Rented Bike Count' across the seasons.\n"
          ]
        }
      ],
      "source": [
        "import numpy as np\n",
        "from scipy.stats import chi2, chi2_contingency\n",
        "\n",
        "# Constructing the contingency table using pivot with a different approach\n",
        "contingency_data = df_3.groupby(['Hour', 'Seasons'])['Rented Bike Count'].mean().unstack().fillna(0)\n",
        "\n",
        "# Observed values directly from the contingency table\n",
        "observed_values = contingency_data.values\n",
        "\n",
        "# Row and column totals calculated individually\n",
        "total_by_hour = contingency_data.sum(axis=1)\n",
        "total_by_season = contingency_data.sum(axis=0)\n",
        "\n",
        "# Overall total for all observed values\n",
        "total_observations = np.sum(observed_values)\n",
        "\n",
        "# Calculating expected values manually by iterating over the matrix dimensions\n",
        "expected_values = np.zeros_like(observed_values)\n",
        "for i in range(observed_values.shape[0]):\n",
        "    for j in range(observed_values.shape[1]):\n",
        "        expected_values[i, j] = (total_by_hour.iloc[i] * total_by_season.iloc[j]) / total_observations\n",
        "\n",
        "# Chi-squared statistic calculation using an element-wise operation\n",
        "chi2_value = np.sum((observed_values - expected_values) ** 2 / expected_values)\n",
        "\n",
        "# Degrees of freedom calculation\n",
        "df = (observed_values.shape[0] - 1) * (observed_values.shape[1] - 1)\n",
        "\n",
        "# P-value calculation using the chi-squared distribution\n",
        "p_val = chi2.sf(chi2_value, df)\n",
        "\n",
        "# Output the chi-squared statistic, degrees of freedom, and p-value\n",
        "print(f\"Chi-squared Statistic: {chi2_value:.3f}\")\n",
        "print(f\"Degrees of Freedom: {df}\")\n",
        "print(f\"P-value: {p_val:.5f}\")\n",
        "\n",
        "# Comparing p-value with alpha to conclude significance\n",
        "if p_val < alpha:\n",
        "    print(\"There is a statistically significant difference between the hourly distributions of 'Rented Bike Count' across the seasons.\")\n",
        "else:\n",
        "    print(\"No statistically significant difference found between the hourly distributions of 'Rented Bike Count' across the seasons.\")"
      ]
    },
    {
      "cell_type": "markdown",
      "metadata": {
        "id": "OeCedRtEYoTW"
      },
      "source": [
        "## Inbuilt chi-squared test"
      ]
    },
    {
      "cell_type": "code",
      "execution_count": null,
      "metadata": {
        "id": "y7S_BrdsYoTX",
        "outputId": "eb960bce-cd1d-4744-fc4d-be4338e7fbca",
        "colab": {
          "base_uri": "https://localhost:8080/"
        }
      },
      "outputs": [
        {
          "output_type": "stream",
          "name": "stdout",
          "text": [
            "Chi-squared Statistic: 529.860\n",
            "Degrees of Freedom: 23\n",
            "P-value: 0.00000\n",
            "There is a statistically significant difference between the hourly distributions of 'Rented Bike Count' across the seasons.\n"
          ]
        }
      ],
      "source": [
        "# Perform the chi-squared test\n",
        "chi2_stat, p_val, df, expected = chi2_contingency(contingency_data, correction=False)\n",
        "\n",
        "# Output the chi-squared statistic, degrees of freedom, and p-value\n",
        "print(f\"Chi-squared Statistic: {chi2_stat:.3f}\")\n",
        "print(f\"Degrees of Freedom: {df}\")\n",
        "print(f\"P-value: {p_val:.5f}\")\n",
        "\n",
        "# Comparing p-value with alpha to conclude significance\n",
        "if p_val < alpha:\n",
        "    print(\"There is a statistically significant difference between the hourly distributions of 'Rented Bike Count' across the seasons.\")\n",
        "else:\n",
        "    print(\"No statistically significant difference found between the hourly distributions of 'Rented Bike Count' across the seasons.\")"
      ]
    }
  ],
  "metadata": {
    "colab": {
      "provenance": []
    },
    "kernelspec": {
      "display_name": "Python 3",
      "name": "python3"
    },
    "language_info": {
      "codemirror_mode": {
        "name": "ipython",
        "version": 3
      },
      "file_extension": ".py",
      "mimetype": "text/x-python",
      "name": "python",
      "nbconvert_exporter": "python",
      "pygments_lexer": "ipython3",
      "version": "3.10.12"
    }
  },
  "nbformat": 4,
  "nbformat_minor": 0
}